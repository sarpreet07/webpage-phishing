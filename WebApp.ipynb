{
 "cells": [
  {
   "cell_type": "code",
   "execution_count": null,
   "metadata": {},
   "outputs": [],
   "source": [
    "# Importing required libraries\n",
    "\n",
    "import pickle\n",
    "import numpy as np\n",
    "import pandas as pd\n",
    "import warnings\n",
    "warnings.filterwarnings('ignore')\n",
    "import ipywidgets as widgets\n",
    "from IPython.display import display, clear_output"
   ]
  },
  {
   "cell_type": "code",
   "execution_count": null,
   "metadata": {},
   "outputs": [],
   "source": [
    "#!jupyter nbextension enable --py widgetsnbextension --sys-prefix\n",
    "#!jupyter serverextension enable voila --sys-prefix"
   ]
  },
  {
   "cell_type": "code",
   "execution_count": null,
   "metadata": {},
   "outputs": [],
   "source": [
    "# Input widgets\n",
    "\n",
    "google_index = widgets.FloatText(\n",
    "        description = 'google index',\n",
    "        disabled = False,\n",
    "        layout = widgets.Layout(width = '90%')\n",
    "    )\n",
    "\n",
    "page_rank = widgets.FloatText(\n",
    "        description = 'page rank',\n",
    "        disabled = False,\n",
    "        layout = widgets.Layout(width = '90%')\n",
    "    )\n",
    "\n",
    "nb_hyperlinks = widgets.FloatText(\n",
    "        description = 'number of links to the page',\n",
    "        disabled = False,\n",
    "        layout = widgets.Layout(width = '90%')\n",
    "    )\n",
    "\n",
    "domain_age = widgets.FloatText(\n",
    "        description = 'age of domain(in hours)',\n",
    "        disabled = False,\n",
    "        layout = widgets.Layout(width = '90%')\n",
    "    )\n",
    "\n",
    "whois_registered_domain = widgets.FloatText(\n",
    "        description = 'whether domain is whois registered?(0->no 1->yes)',\n",
    "        disabled = False,\n",
    "        layout = widgets.Layout(width = '90%')\n",
    "    )\n",
    "\n",
    "inputs = widgets.VBox([google_index,page_rank,nb_hyperlinks,domain_age,whois_registered_domain], \n",
    "                       layout = widgets.Layout(\n",
    "                        justify_content = 'center',\n",
    "                        width = '100%'\n",
    "                        ))"
   ]
  },
  {
   "cell_type": "code",
   "execution_count": null,
   "metadata": {},
   "outputs": [],
   "source": [
    "# Return charges predicted using appropriate cluster's linear model\n",
    "\n",
    "def return_air_pol_pred(google_index,page_rank,nb_hyperlinks,domain_age,whois_registered_domain):\n",
    "    model = pickle.load(open('dtc_model3.pkl', 'rb'))\n",
    "    ans = model.predict(np.array([google_index,page_rank,nb_hyperlinks,domain_age,whois_registered_domain]).reshape(1, -1))\n",
    "    if ans==1:\n",
    "        return 'phishing webpage'\n",
    "    else:\n",
    "        return \"legitimate webpage\"\n",
    "    \n",
    "    #return ans"
   ]
  },
  {
   "cell_type": "code",
   "execution_count": null,
   "metadata": {},
   "outputs": [],
   "source": [
    "# On button click function definition\n",
    "\n",
    "def on_button_clicked(event):\n",
    "    with output:\n",
    "        clear_output()\n",
    "        Google = float(google_index.value)\n",
    "        Page = float(page_rank.value)\n",
    "        Nb = float(nb_hyperlinks.value)\n",
    "        Domain = float(domain_age.value)\n",
    "        Whois = float(whois_registered_domain.value)\n",
    "\n",
    "        \n",
    "        if(Domain<=0):\n",
    "            display(\n",
    "            widgets.HTML(value = \"<h2><center>Caution!! fake Webpage</center></h2>\")\n",
    "            )\n",
    "            return\n",
    "        if(Whois==0):\n",
    "            display(\n",
    "            widgets.HTML(value = \"<h2><center>Caution!! no record of webpage found may be a fake webpage.</center></h2>\")\n",
    "            )\n",
    "            return\n",
    "        \n",
    "        pol_predicted = return_air_pol_pred(Google,Page,Nb,Domain,Whois)\n",
    "        \n",
    "        display(\n",
    "            widgets.HTML(value = \"<h2><center>Result: \" + pol_predicted + \"</center></h2>\")\n",
    "        )"
   ]
  },
  {
   "cell_type": "code",
   "execution_count": null,
   "metadata": {},
   "outputs": [],
   "source": [
    "# Calculate button\n",
    "\n",
    "calculate = widgets.Button(\n",
    "            description = 'result',\n",
    "            layout = widgets.Layout(width = '100%')\n",
    "        )\n",
    "\n",
    "calculate.on_click(on_button_clicked)"
   ]
  },
  {
   "cell_type": "code",
   "execution_count": null,
   "metadata": {},
   "outputs": [],
   "source": [
    "# Output widget\n",
    "\n",
    "output = widgets.Output()\n",
    "\n",
    "OutputHbox = widgets.HBox([output],\n",
    "                        layout = widgets.Layout(\n",
    "                        justify_content = 'center',\n",
    "                        )\n",
    "                    )"
   ]
  },
  {
   "cell_type": "code",
   "execution_count": null,
   "metadata": {},
   "outputs": [],
   "source": [
    "# Line breaker\n",
    "\n",
    "text_0 = widgets.HTML(value = \"<h1></h1>\", \n",
    "                     layout = widgets.Layout(\n",
    "                     align_items = 'center',\n",
    "                     )\n",
    "                    )"
   ]
  },
  {
   "cell_type": "code",
   "execution_count": null,
   "metadata": {},
   "outputs": [],
   "source": [
    "# Heading\n",
    "\n",
    "text_1 = widgets.HTML(value = \"<h1><b><center>Webpage Phishing Detector</center></b></h1>\")\n",
    "\n",
    "headings = widgets.VBox([text_1, text_0])\n",
    "\n",
    "# About dataset\n",
    "\n",
    "text_4 = widgets.HTML(value = \"\"\"\n",
    "<table style=\"width: 100%; border-collapse: collapse;\" border=\"3\" cellpadding=\"20\">\n",
    "<tbody>\n",
    "<tr>\n",
    "<td style=\"width: 100%;\">\n",
    "<h1>About the dataset</h1>\n",
    "<h3>Attributes:</h3>\n",
    "<ul>\n",
    "<li>GOOGLE INDEX: This feature examines whether a website is in Google’s index or not. When a site is indexed by Google, it is displayed on search results. {google index 1 ->legitimate; google index 0 ->phishing}</li>\n",
    "<li>PAGE RANK: PageRank is a value ranging from “0” to “1”. PageRank aims to measure how important a webpage is on the Internet. {PageRank<0.2 → Phishing\n",
    "; Otherwise → Legitimate}</li>\n",
    "<li>NOMBER OF LINKS: The number of links pointing to the webpage indicates its legitimacy level. {Number Of Link Pointing to The Webpage=0 → Phishing\n",
    "; Number Of Link Pointing to The Webpage>0 and ≤ 2 → Suspicious;Otherwise → Legitimate}</li>\n",
    "<li>DOMAIN AGE: age of the domain. {Age Of Domain≥6 months → Legitimate\n",
    "; Otherwise → Phishing}</li>\n",
    "<li>WHOIS REGISTERATION: For phishing websites, either the claimed identity is not recognized by the WHOIS database (Whois 2005) or no records founded for the hostname. If the DNS record is empty or not found then the website is classified as “Phishing”, otherwise it is classified as “Legitimate”. {no DNS Record For The Domain → Phishing\n",
    "; Otherwise → Legitimate}</li>\n",
    "</ul>\n",
    "</td>\n",
    "</tr>\n",
    "</tbody>\n",
    "</table>\n",
    "\"\"\")\n",
    "\n",
    "text_6 = widgets.HTML(value = \"<h1><center>Enter the following parameters:</center></h1>\")"
   ]
  },
  {
   "cell_type": "code",
   "execution_count": null,
   "metadata": {},
   "outputs": [],
   "source": [
    "# Displaying rendered Web Page\n",
    "\n",
    "page = widgets.VBox([text_0, text_1, text_0, text_0, text_4, text_0, text_6, text_0, inputs, text_0, text_0, calculate, output])\n",
    "display(page)"
   ]
  }
 ],
 "metadata": {
  "kernelspec": {
   "display_name": "Python 3",
   "language": "python",
   "name": "python3"
  },
  "language_info": {
   "codemirror_mode": {
    "name": "ipython",
    "version": 3
   },
   "file_extension": ".py",
   "mimetype": "text/x-python",
   "name": "python",
   "nbconvert_exporter": "python",
   "pygments_lexer": "ipython3",
   "version": "3.8.3"
  }
 },
 "nbformat": 4,
 "nbformat_minor": 5
}
